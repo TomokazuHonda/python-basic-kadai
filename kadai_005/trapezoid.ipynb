{
  "nbformat": 4,
  "nbformat_minor": 0,
  "metadata": {
    "colab": {
      "provenance": []
    },
    "kernelspec": {
      "name": "python3",
      "display_name": "Python 3"
    },
    "language_info": {
      "name": "python"
    }
  },
  "cells": [
    {
      "cell_type": "code",
      "execution_count": 2,
      "metadata": {
        "id": "QEEZbLUoGtAU"
      },
      "outputs": [],
      "source": [
        "top_base = 10"
      ]
    },
    {
      "cell_type": "code",
      "source": [
        "bottom_base = 20"
      ],
      "metadata": {
        "id": "3wvosrqsHlg_"
      },
      "execution_count": 3,
      "outputs": []
    },
    {
      "cell_type": "code",
      "source": [
        "height = 5"
      ],
      "metadata": {
        "id": "KPZZTHlZHrEF"
      },
      "execution_count": 4,
      "outputs": []
    },
    {
      "cell_type": "code",
      "source": [
        "area =  ((top_base + bottom_base) * height )/2"
      ],
      "metadata": {
        "id": "-7mfCDLqIDgF"
      },
      "execution_count": 6,
      "outputs": []
    },
    {
      "cell_type": "code",
      "source": [
        "print(str(area) + \"cm²\")"
      ],
      "metadata": {
        "colab": {
          "base_uri": "https://localhost:8080/"
        },
        "id": "53iOlWQ-IWat",
        "outputId": "f56d8d6a-be07-44f4-fcc6-620ddf23e347"
      },
      "execution_count": 8,
      "outputs": [
        {
          "output_type": "stream",
          "name": "stdout",
          "text": [
            "75.0cm²\n"
          ]
        }
      ]
    },
    {
      "cell_type": "code",
      "source": [],
      "metadata": {
        "id": "ksf7gqoeInaN"
      },
      "execution_count": null,
      "outputs": []
    }
  ]
}