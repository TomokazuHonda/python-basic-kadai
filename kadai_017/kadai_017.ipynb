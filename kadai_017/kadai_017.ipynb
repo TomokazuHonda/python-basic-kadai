{
  "nbformat": 4,
  "nbformat_minor": 0,
  "metadata": {
    "colab": {
      "provenance": []
    },
    "kernelspec": {
      "name": "python3",
      "display_name": "Python 3"
    },
    "language_info": {
      "name": "python"
    }
  },
  "cells": [
    {
      "cell_type": "code",
      "execution_count": 11,
      "metadata": {
        "colab": {
          "base_uri": "https://localhost:8080/"
        },
        "id": "-zksYZ2t34-J",
        "outputId": "f5f69b1c-f24f-4c45-f43f-bcf90de992a7"
      },
      "outputs": [
        {
          "output_type": "stream",
          "name": "stdout",
          "text": [
            "A/20→大人\n",
            "B/19→小人\n",
            "C/21→大人\n"
          ]
        }
      ],
      "source": [
        "class Human:\n",
        "    # コンストラクタを定義する\n",
        "    def __init__(self, name, age):\n",
        "        self.name = name\n",
        "        self.age = age\n",
        "\n",
        "    def check_adult(self):\n",
        "      if self.age >= 20:\n",
        "        print(f\"{self.name}/{self.age}→大人\")\n",
        "      else:\n",
        "        print(f\"{self.name}/{self.age}→小人\")\n",
        "\n",
        "name_age = {\"A\": 20, \"B\": 19, \"C\": 21}\n",
        "\n",
        "for key, value in name_age.items():\n",
        "  # インスタンス化する\n",
        "  human = Human(key, value)\n",
        "  # check_adultメソッドの使用\n",
        "  human.check_adult()"
      ]
    }
  ]
}