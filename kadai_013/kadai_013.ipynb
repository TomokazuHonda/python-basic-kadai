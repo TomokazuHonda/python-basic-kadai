{
  "nbformat": 4,
  "nbformat_minor": 0,
  "metadata": {
    "colab": {
      "provenance": []
    },
    "kernelspec": {
      "name": "python3",
      "display_name": "Python 3"
    },
    "language_info": {
      "name": "python"
    }
  },
  "cells": [
    {
      "cell_type": "code",
      "source": [
        "def add_tax(price, tax):\n",
        "    # 与えられた引数priceと引数taxを加算し、変数totalに代入する\n",
        "    total = price * (1 + (tax / 100))\n",
        "\n",
        "    # 変数$totalの値を出力する\n",
        "    print(f\"{total}円\")"
      ],
      "metadata": {
        "id": "j53AdsTaLXGt"
      },
      "execution_count": 21,
      "outputs": []
    },
    {
      "cell_type": "code",
      "source": [
        "add_tax(110, 10)"
      ],
      "metadata": {
        "colab": {
          "base_uri": "https://localhost:8080/"
        },
        "id": "DAAB6H_iNHJi",
        "outputId": "8f7012fc-f01f-4e15-b2e8-5a8ff551217f"
      },
      "execution_count": 22,
      "outputs": [
        {
          "output_type": "stream",
          "name": "stdout",
          "text": [
            "121.00000000000001円\n"
          ]
        }
      ]
    },
    {
      "cell_type": "code",
      "source": [],
      "metadata": {
        "id": "M9aqf0sVNOvM"
      },
      "execution_count": null,
      "outputs": []
    }
  ]
}