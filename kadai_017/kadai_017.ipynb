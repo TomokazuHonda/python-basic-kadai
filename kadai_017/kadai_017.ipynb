{
  "nbformat": 4,
  "nbformat_minor": 0,
  "metadata": {
    "colab": {
      "provenance": []
    },
    "kernelspec": {
      "name": "python3",
      "display_name": "Python 3"
    },
    "language_info": {
      "name": "python"
    }
  },
  "cells": [
    {
      "cell_type": "code",
      "execution_count": 21,
      "metadata": {
        "colab": {
          "base_uri": "https://localhost:8080/"
        },
        "id": "-zksYZ2t34-J",
        "outputId": "b341e75c-ff44-4512-9a48-e8a3e84c1657"
      },
      "outputs": [
        {
          "output_type": "stream",
          "name": "stdout",
          "text": [
            "A/20→is adult.\n",
            "B/19→is not adult.\n",
            "C/21→is adult.\n"
          ]
        }
      ],
      "source": [
        "class Human:\n",
        "    # コンストラクタを定義する\n",
        "    def __init__(self, name, age):\n",
        "        self.name = name\n",
        "        self.age = age\n",
        "\n",
        "    def check_adult(self):\n",
        "      if self.age >= 20:\n",
        "        print(f\"{self.name}/{self.age}→is adult.\")\n",
        "      else:\n",
        "        print(f\"{self.name}/{self.age}→is not adult.\")\n",
        "\n",
        "#ディクショナリのため不可　　　name_age = {\"A\": 20, \"B\": 19, \"C\": 21}\n",
        "\n",
        "user_names = [(\"A\",20) ,(\"B\",19),(\"C\",21)]  #タプルにする\n",
        "\n",
        "\n",
        "#ディクショナリのため不可      for key, value in name_age.items():\n",
        "\n",
        "for user_name, user_age in user_names:\n",
        "\n",
        "    human = Human(user_name,user_age) # インスタンス化する\n",
        "\n",
        "#ディクショナリのため不可  human = Human(key, value)\n",
        "\n",
        "    human.check_adult() # check_adultメソッドの使用\n",
        "\n"
      ]
    }
  ]
}