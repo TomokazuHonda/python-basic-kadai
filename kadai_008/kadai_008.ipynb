{
  "nbformat": 4,
  "nbformat_minor": 0,
  "metadata": {
    "colab": {
      "provenance": []
    },
    "kernelspec": {
      "name": "python3",
      "display_name": "Python 3"
    },
    "language_info": {
      "name": "python"
    }
  },
  "cells": [
    {
      "cell_type": "code",
      "execution_count": 1,
      "metadata": {
        "id": "6YcOznXE2W6S"
      },
      "outputs": [],
      "source": [
        "#ランダムな整数を利用するために、randomモジュールをインポート\n",
        "import random"
      ]
    },
    {
      "cell_type": "code",
      "source": [
        "var = random.randint(0, 100)"
      ],
      "metadata": {
        "id": "QXcwGYGC2hXK"
      },
      "execution_count": 28,
      "outputs": []
    },
    {
      "cell_type": "code",
      "source": [
        "if var % 3 == 0:\n",
        "    print(\"Fizz\")\n",
        "elif var % 5 == 0:\n",
        "    print(\"Buzz\")\n",
        "elif var % 15 == 0:\n",
        "    print(\"FizzBuzz\")\n",
        "else:\n",
        "    print(var)"
      ],
      "metadata": {
        "colab": {
          "base_uri": "https://localhost:8080/"
        },
        "id": "K5xQESSQ3ofr",
        "outputId": "11a25826-e04c-4a6f-c7a5-93d1f1efb404"
      },
      "execution_count": 29,
      "outputs": [
        {
          "output_type": "stream",
          "name": "stdout",
          "text": [
            "Fizz\n"
          ]
        }
      ]
    },
    {
      "cell_type": "code",
      "source": [],
      "metadata": {
        "id": "N3hfTmAF44Zv"
      },
      "execution_count": null,
      "outputs": []
    }
  ]
}